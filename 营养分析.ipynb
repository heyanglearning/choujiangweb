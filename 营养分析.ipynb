{
 "cells": [
  {
   "cell_type": "markdown",
   "metadata": {},
   "source": [
    "# 数据来源\n",
    "<hr>\n",
    "> \n",
    "## 1.初始数据来源：已就餐状态的订单\n",
    "## 2.按照手机号与姓名进行分组\n",
    "## 3.拿到每个订单的消费明细，进行分隔与分词得到消费的食品名字\n",
    "## 4.获取营养元素详情的途径：\n",
    ">> \n",
    "<font size=3>4.1 上架菜品时，运营部联系质检部将营养元素写入菜品介绍\n",
    "<font size=3>4.2 没有营养元素信息，则通过爬虫访问薄荷营养去拿到营养元素\n",
    ">>>  \n",
    "<img src='./yxrs.png'/>\n",
    "\n",
    "> ## 5.营养数据的展示:占比分析，摄入分析，营养建议，词云\n",
    ">> \n",
    "<font size=3>5.1 分析摄入热量占比\n",
    ">>> \n",
    "<img src='./摄入热量来源占比.png'/>/\n",
    ">> \n",
    "<font size=3>5.2 分析摄入量占比\n",
    ">>> \n",
    "<img src='摄入量占比.png'/>\n",
    ">> \n",
    "<font size=3>5.3 热量摄入排名 \n",
    ">>> \n",
    "碳水摄入第一名： 7.37克 宫保鸡丁<br/>\n",
    "脂肪摄入第一名： 9.49克 鱼香肉丝<br/>\n",
    "蛋白质摄入第一名： 15.25克 鱼香肉丝<br/>\n",
    ">> \n",
    "<font size=3>5.4 根据标准摄入给与分析\n",
    ">>> \n",
    "青少年的能量处于正平衡状态，青少年对能量的需要与生长速度是成正比的，能量的来源分别为：碳水化合物55%~65%,脂肪25%~30%，蛋白质10%~15%。\n",
    "<img src='推荐占比.png'/>\n",
    "脂肪摄入占比31.6%，摄入量较高<br/>\n",
    "碳水化合物摄入占比20.6%，摄入量较低<br/>\n",
    "蛋白质摄入占比47.8%，摄入量较高<br/>\n",
    ">> \n",
    "<font size=3>5.5 建议\n",
    ">>> \n",
    "脂肪的最主要功能就是储存我们摄入的能量，其构成人体组织并供给必需的脂肪酸与脂溶性维生素，但是脂肪的摄入不能过高。建议您在日常饮食时注重脂肪的摄入与身体锻炼，过多的摄入会造成肥胖。<br/><br/>\n",
    "碳水化合物是人类获取能量的最经济和最主要的来源，是构成机体组织的重要物质，并参与细胞的组成和多种活动，所以碳水化合物的摄入不能过低。建议您在日常饮食时注重碳水化合物的摄入。<br/><br/>\n",
    "蛋白质是生命活动的主要承担者，机体所有重要的组成部分都需要有蛋白质的参与,您的蛋白质摄入略高，会增加肾脏的负担，摄入适当即可。"
   ]
  },
  {
   "cell_type": "markdown",
   "metadata": {},
   "source": [
    "### 处理数据->根据公式得出每个营养素对应KCal"
   ]
  },
  {
   "cell_type": "code",
   "execution_count": 28,
   "metadata": {},
   "outputs": [],
   "source": [
    "import pandas as pd\n",
    "import matplotlib.pyplot as plt\n",
    "import numpy as np\n",
    "plt.rcParams['font.sans-serif']=['SimHei']\n",
    "plt.rcParams['axes.unicode_minus']=False\n",
    "%matplotlib inline"
   ]
  },
  {
   "cell_type": "code",
   "execution_count": 23,
   "metadata": {},
   "outputs": [
    {
     "data": {
      "text/html": [
       "<div>\n",
       "<style scoped>\n",
       "    .dataframe tbody tr th:only-of-type {\n",
       "        vertical-align: middle;\n",
       "    }\n",
       "\n",
       "    .dataframe tbody tr th {\n",
       "        vertical-align: top;\n",
       "    }\n",
       "\n",
       "    .dataframe thead th {\n",
       "        text-align: right;\n",
       "    }\n",
       "</style>\n",
       "<table border=\"1\" class=\"dataframe\">\n",
       "  <thead>\n",
       "    <tr style=\"text-align: right;\">\n",
       "      <th></th>\n",
       "      <th>heat</th>\n",
       "      <th>school_num</th>\n",
       "      <th>name</th>\n",
       "      <th>protein</th>\n",
       "      <th>fat</th>\n",
       "      <th>carbon</th>\n",
       "      <th>phone</th>\n",
       "      <th>food_name</th>\n",
       "    </tr>\n",
       "  </thead>\n",
       "  <tbody>\n",
       "    <tr>\n",
       "      <th>0</th>\n",
       "      <td>127.06</td>\n",
       "      <td>1</td>\n",
       "      <td>1</td>\n",
       "      <td>9.71</td>\n",
       "      <td>7.01</td>\n",
       "      <td>7.37</td>\n",
       "      <td>1</td>\n",
       "      <td>宫保鸡丁</td>\n",
       "    </tr>\n",
       "    <tr>\n",
       "      <th>1</th>\n",
       "      <td>159.02</td>\n",
       "      <td>1</td>\n",
       "      <td>1</td>\n",
       "      <td>15.25</td>\n",
       "      <td>9.49</td>\n",
       "      <td>3.41</td>\n",
       "      <td>1</td>\n",
       "      <td>鱼香肉丝</td>\n",
       "    </tr>\n",
       "  </tbody>\n",
       "</table>\n",
       "</div>"
      ],
      "text/plain": [
       "     heat  school_num  name  protein   fat  carbon  phone food_name\n",
       "0  127.06           1     1     9.71  7.01    7.37      1      宫保鸡丁\n",
       "1  159.02           1     1    15.25  9.49    3.41      1      鱼香肉丝"
      ]
     },
     "execution_count": 23,
     "metadata": {},
     "output_type": "execute_result"
    }
   ],
   "source": [
    "foods = pd.read_csv('./food_detail.csv')\n",
    "foods.head()"
   ]
  },
  {
   "cell_type": "code",
   "execution_count": 106,
   "metadata": {},
   "outputs": [],
   "source": [
    "# 公式：蛋白质*4 脂肪*9 碳水*4 (kcal)\n",
    "foods['fat_heat'] = foods['fat'].apply(lambda x: x*9)\n",
    "foods['carbon_heat'] = foods['carbon'].apply(lambda x: x*4)\n",
    "foods['protein_heat'] = foods['protein'].apply(lambda x: x*4)"
   ]
  },
  {
   "cell_type": "code",
   "execution_count": 107,
   "metadata": {},
   "outputs": [
    {
     "data": {
      "text/html": [
       "<div>\n",
       "<style scoped>\n",
       "    .dataframe tbody tr th:only-of-type {\n",
       "        vertical-align: middle;\n",
       "    }\n",
       "\n",
       "    .dataframe tbody tr th {\n",
       "        vertical-align: top;\n",
       "    }\n",
       "\n",
       "    .dataframe thead th {\n",
       "        text-align: right;\n",
       "    }\n",
       "</style>\n",
       "<table border=\"1\" class=\"dataframe\">\n",
       "  <thead>\n",
       "    <tr style=\"text-align: right;\">\n",
       "      <th></th>\n",
       "      <th>heat</th>\n",
       "      <th>school_num</th>\n",
       "      <th>name</th>\n",
       "      <th>protein</th>\n",
       "      <th>fat</th>\n",
       "      <th>carbon</th>\n",
       "      <th>phone</th>\n",
       "      <th>food_name</th>\n",
       "      <th>fat_heat</th>\n",
       "      <th>carbon_heat</th>\n",
       "      <th>protein_heat</th>\n",
       "      <th>f_pct</th>\n",
       "      <th>c_pct</th>\n",
       "      <th>p_pct</th>\n",
       "    </tr>\n",
       "  </thead>\n",
       "  <tbody>\n",
       "    <tr>\n",
       "      <th>0</th>\n",
       "      <td>127.06</td>\n",
       "      <td>1</td>\n",
       "      <td>1</td>\n",
       "      <td>9.71</td>\n",
       "      <td>7.01</td>\n",
       "      <td>7.37</td>\n",
       "      <td>1</td>\n",
       "      <td>宫保鸡丁</td>\n",
       "      <td>63.09</td>\n",
       "      <td>29.48</td>\n",
       "      <td>38.84</td>\n",
       "      <td>0.290992</td>\n",
       "      <td>0.305936</td>\n",
       "      <td>0.403072</td>\n",
       "    </tr>\n",
       "    <tr>\n",
       "      <th>1</th>\n",
       "      <td>159.02</td>\n",
       "      <td>1</td>\n",
       "      <td>1</td>\n",
       "      <td>15.25</td>\n",
       "      <td>9.49</td>\n",
       "      <td>3.41</td>\n",
       "      <td>1</td>\n",
       "      <td>鱼香肉丝</td>\n",
       "      <td>85.41</td>\n",
       "      <td>13.64</td>\n",
       "      <td>61.00</td>\n",
       "      <td>0.337123</td>\n",
       "      <td>0.121137</td>\n",
       "      <td>0.541741</td>\n",
       "    </tr>\n",
       "  </tbody>\n",
       "</table>\n",
       "</div>"
      ],
      "text/plain": [
       "     heat  school_num  name  protein   fat  carbon  phone food_name  fat_heat  \\\n",
       "0  127.06           1     1     9.71  7.01    7.37      1      宫保鸡丁     63.09   \n",
       "1  159.02           1     1    15.25  9.49    3.41      1      鱼香肉丝     85.41   \n",
       "\n",
       "   carbon_heat  protein_heat     f_pct     c_pct     p_pct  \n",
       "0        29.48         38.84  0.290992  0.305936  0.403072  \n",
       "1        13.64         61.00  0.337123  0.121137  0.541741  "
      ]
     },
     "execution_count": 107,
     "metadata": {},
     "output_type": "execute_result"
    }
   ],
   "source": [
    "foods"
   ]
  },
  {
   "cell_type": "code",
   "execution_count": 74,
   "metadata": {},
   "outputs": [],
   "source": [
    "heat = foods.heat.sum()\n",
    "p_h = foods.protein_heat.sum()\n",
    "c_h = foods.carbon_heat.sum()\n",
    "f_h = foods.fat_heat.sum()\n",
    "p = foods.protein.sum()\n",
    "c = foods.carbon.sum()\n",
    "f = foods.fat.sum()"
   ]
  },
  {
   "cell_type": "markdown",
   "metadata": {},
   "source": [
    "### 得到各营养素做占比分析"
   ]
  },
  {
   "cell_type": "code",
   "execution_count": 141,
   "metadata": {},
   "outputs": [
    {
     "data": {
      "image/png": "[encoded data removed]",
      "text/plain": [
       "<matplotlib.figure.Figure at 0x27f93176ba8>"
      ]
     },
     "metadata": {},
     "output_type": "display_data"
    }
   ],
   "source": [
    "color = ['lightsalmon','moccasin','lightskyblue']\n",
    "label = [u'蛋白质热量', u'碳水热量', u'脂肪热量']\n",
    "exp = [0.02]*3\n",
    "data = [p_h, c_h, f_h]\n",
    "plt.pie(data,colors=color,autopct='%1.1f%%',pctdistance = 0.85,)\n",
    "plt.pie([1],colors='w',radius=0.74)\n",
    "plt.title(\"摄入热量来源占比(千卡)\")\n",
    "plt.legend(labels=label,bbox_to_anchor=(1.1, 1.05),title=\"说明\")\n",
    "plt.axis(\"equal\")\n",
    "plt.savefig('./摄入热量来源占比.png')"
   ]
  },
  {
   "cell_type": "code",
   "execution_count": 142,
   "metadata": {},
   "outputs": [
    {
     "data": {
      "image/png": "[encoded data removed]",
      "text/plain": [
       "<matplotlib.figure.Figure at 0x27f9315ed68>"
      ]
     },
     "metadata": {},
     "output_type": "display_data"
    }
   ],
   "source": [
    "color = ['lightsalmon','moccasin','lightskyblue']\n",
    "label = [u'蛋白质', u'碳水', u'脂肪']\n",
    "exp = [0.02]*3\n",
    "data = [p, c, f]\n",
    "plt.pie(data,colors=color,autopct='%1.1f%%',pctdistance = 0.85,)\n",
    "plt.pie([1],colors='w',radius=0.74)\n",
    "plt.title(\"摄入量占比(克)\")\n",
    "plt.legend(labels=label,bbox_to_anchor=(1.1, 1.05),title=\"说明\")\n",
    "plt.axis(\"equal\")\n",
    "plt.savefig('./摄入量占比.png')"
   ]
  },
  {
   "cell_type": "code",
   "execution_count": 103,
   "metadata": {},
   "outputs": [
    {
     "name": "stdout",
     "output_type": "stream",
     "text": [
      "碳水摄入第一名： 7.37 宫保鸡丁\n",
      "脂肪摄入第一名： 9.49 鱼香肉丝\n",
      "蛋白质摄入第一名： 15.25 鱼香肉丝\n"
     ]
    },
    {
     "name": "stderr",
     "output_type": "stream",
     "text": [
      "E:\\anaconda3\\lib\\site-packages\\numpy\\core\\fromnumeric.py:52: FutureWarning: 'argmax' is deprecated. Use 'idxmax' instead. The behavior of 'argmax' will be corrected to return the positional maximum in the future. Use 'series.values.argmax' to get the position of the maximum now.\n",
      "  return getattr(obj, method)(*args, **kwds)\n"
     ]
    }
   ],
   "source": [
    "print('碳水摄入第一名：', foods['carbon'].max(), foods.iloc[np.argmax(foods['carbon'])]['food_name'])\n",
    "print('脂肪摄入第一名：', foods['fat'].max(), foods.iloc[np.argmax(foods['fat'])]['food_name'])\n",
    "print('蛋白质摄入第一名：', foods['protein'].max(), foods.iloc[np.argmax(foods['protein'])]['food_name'])"
   ]
  },
  {
   "cell_type": "markdown",
   "metadata": {},
   "source": [
    "### 摄入分析->根据占比与标准摄入进行对比，进行摄入分析"
   ]
  },
  {
   "cell_type": "code",
   "execution_count": 149,
   "metadata": {},
   "outputs": [
    {
     "name": "stdout",
     "output_type": "stream",
     "text": [
      "青少年的能量处于正平衡状态，青少年对能量的需要与生长速度是成正比的，能量的来源分别为：碳水化合物55%~65%,脂肪25%~30%，蛋白质10%~15%。\n"
     ]
    },
    {
     "data": {
      "image/png": "[encoded data removed]",
      "text/plain": [
       "<matplotlib.figure.Figure at 0x27f93423f98>"
      ]
     },
     "metadata": {},
     "output_type": "display_data"
    }
   ],
   "source": [
    "advice = '青少年的能量处于正平衡状态，青少年对能量的需要与生长速度是成正比的，能量的来源分别为：碳水化合物55%~65%,脂肪25%~30%，蛋白质10%~15%。'\n",
    "print(advice)\n",
    "color = ['lightsalmon','moccasin','lightskyblue']\n",
    "label = [u'蛋白质', u'碳水', u'脂肪']\n",
    "exp = [0.02]*3\n",
    "data = ['0.60', '0.25', '0.15']\n",
    "plt.pie(data,colors=color,autopct='%1.1f%%',pctdistance = 0.85,)\n",
    "plt.pie([1],colors='w',radius=0.74)\n",
    "plt.title(\"推荐摄入占比(克)\")\n",
    "plt.legend(labels=label,bbox_to_anchor=(1.1, 1.05),title=\"说明\")\n",
    "plt.axis(\"equal\")\n",
    "plt.savefig('推荐摄入占比.png')"
   ]
  },
  {
   "cell_type": "code",
   "execution_count": 109,
   "metadata": {},
   "outputs": [
    {
     "name": "stdout",
     "output_type": "stream",
     "text": [
      "0.3158499234303216 0.2063552833078101 0.4777947932618683\n"
     ]
    }
   ],
   "source": [
    "# 计算用户摄入量占比,根据推荐摄入占比进行分析\n",
    "# 计算摄入量占比\n",
    "f_pct = foods['fat'].sum()/(foods['fat'].sum()+foods['carbon'].sum()+foods['protein'].sum())\n",
    "c_pct = foods['carbon'].sum()/(foods['fat'].sum()+foods['carbon'].sum()+foods['protein'].sum())\n",
    "p_pct = foods['protein'].sum()/(foods['fat'].sum()+foods['carbon'].sum()+foods['protein'].sum())\n",
    "print(f_pct, c_pct, p_pct)"
   ]
  },
  {
   "cell_type": "markdown",
   "metadata": {},
   "source": [
    "### 健康建议"
   ]
  },
  {
   "cell_type": "code",
   "execution_count": 138,
   "metadata": {},
   "outputs": [],
   "source": [
    "standard = {'fat_low':0.25, 'fat_high':0.30, 'carbon_low':0.55, 'carbon_high':0.65, 'protein_low':0.1, 'protein_hgih':0.15}\n",
    "def analyse(f, c, p, standard, delta=0.0):\n",
    "    result = ''\n",
    "    suggest = ''\n",
    "    delta = 0.05\n",
    "    if f < standard['fat_low'] - delta:\n",
    "        result += '脂肪摄入占比%1.1f%%，摄入量较低\\n'%(f*100)\n",
    "        suggest += '脂肪的最主要功能就是储存我们摄入的能量，其构成人体组织并供给必需的脂肪酸与脂溶性维生素，所以脂肪的摄入不能过低。建议您在日常饮食时注重脂肪的摄入。\\n'\n",
    "    elif f > standard['fat_high'] - delta:\n",
    "        result += '脂肪摄入占比%1.1f%%，摄入量较高\\n'%(f*100)\n",
    "        suggest += '脂肪的最主要功能就是储存我们摄入的能量，其构成人体组织并供给必需的脂肪酸与脂溶性维生素，但是脂肪的摄入不能过高。建议您在日常饮食时注重脂肪的摄入与身体锻炼，过多的摄入会造成肥胖。\\n'\n",
    "    if f < standard['carbon_low'] - delta:\n",
    "        result += '碳水化合物摄入占比%1.1f%%，摄入量较低\\n'%(c*100)\n",
    "        suggest += '碳水化合物是人类获取能量的最经济和最主要的来源，是构成机体组织的重要物质，并参与细胞的组成和多种活动，所以碳水化合物的摄入不能过低。建议您在日常饮食时注重碳水化合物的摄入。\\n'\n",
    "    elif f > standard['carbon_high'] - delta:\n",
    "        result += '碳水化合物摄入占比%1.1f%%，摄入量较高\\n'%(c*100)\n",
    "        suggest += '碳水化合物是人类获取能量的最经济和最主要的来源，是构成机体组织的重要物质，并参与细胞的组成和多种活动，但是碳水化合物的摄入不能过高。建议您在日常饮食时注重碳水化合物的摄入，过多的摄入会转化成脂肪贮存于身体内，使人过于肥胖。\\n'\n",
    "    if f < standard['protein_low'] - delta:\n",
    "        result += '蛋白质摄入占比%1.1f%%，摄入量较低\\n'%(p*100)\n",
    "        suggest += '蛋白质是生命活动的主要承担者，机体所有重要的组成部分都需要有蛋白质的参与,您的蛋白质摄入略低，会导致肌肉变松弛，免疫力下降等问题，所以建议您日常饮食中多摄入蛋白质。\\n'\n",
    "    elif f > standard['protein_hgih'] - delta:\n",
    "        result += '蛋白质摄入占比%1.1f%%，摄入量较高\\n'%(p*100)\n",
    "        suggest += '蛋白质是生命活动的主要承担者，机体所有重要的组成部分都需要有蛋白质的参与,您的蛋白质摄入略高，会增加肾脏的负担，摄入适可即可。\\n'\n",
    "    if ((standard['fat_low'] - delta <= f) & (f <= standard['fat_high'] - delta)):\n",
    "        suggest += '您的脂肪摄入良好，请继续保持'\n",
    "    if ((standard['carbon_low'] - delta <= f) & (f <= standard['carbon_high'] - delta)):\n",
    "        suggest += '您的碳水化合物摄入良好，请继续保持'\n",
    "    if ((standard['protein_low'] - delta <= f) & (f <= standard['protein_hgih'] - delta)):\n",
    "        suggest += '您的蛋白质摄入良好，请继续保持'\n",
    "    return result, suggest"
   ]
  },
  {
   "cell_type": "code",
   "execution_count": 139,
   "metadata": {},
   "outputs": [
    {
     "name": "stdout",
     "output_type": "stream",
     "text": [
      "脂肪的最主要功能就是储存我们摄入的能量，其构成人体组织并供给必需的脂肪酸与脂溶性维生素，但是脂肪的摄入不能过高。建议您在日常饮食时注重脂肪的摄入与身体锻炼，过多的摄入会造成肥胖。\n",
      "碳水化合物是人类获取能量的最经济和最主要的来源，是构成机体组织的重要物质，并参与细胞的组成和多种活动，所以碳水化合物的摄入不能过低。建议您在日常饮食时注重碳水化合物的摄入。\n",
      "蛋白质是生命活动的主要承担者，机体所有重要的组成部分都需要有蛋白质的参与,您的蛋白质摄入略高，会增加肾脏的负担，摄入适可即可。\n",
      "\n",
      "脂肪摄入占比31.6%，摄入量较高\n",
      "碳水化合物摄入占比20.6%，摄入量较低\n",
      "蛋白质摄入占比47.8%，摄入量较高\n",
      "\n"
     ]
    }
   ],
   "source": [
    "result, suggest = analyse(f_pct, c_pct, p_pct, standard)\n",
    "print(suggest)\n",
    "print(result)"
   ]
  }
 ],
 "metadata": {
  "kernelspec": {
   "display_name": "Python 3",
   "language": "python",
   "name": "python3"
  },
  "language_info": {
   "codemirror_mode": {
    "name": "ipython",
    "version": 3
   },
   "file_extension": ".py",
   "mimetype": "text/x-python",
   "name": "python",
   "nbconvert_exporter": "python",
   "pygments_lexer": "ipython3",
   "version": "3.6.4"
  }
 },
 "nbformat": 4,
 "nbformat_minor": 2
}
